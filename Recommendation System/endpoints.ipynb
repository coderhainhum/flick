{
 "cells": [
  {
   "cell_type": "code",
   "execution_count": 132,
   "metadata": {},
   "outputs": [],
   "source": [
    "import pandas as pd\n",
    "import numpy as np\n",
    "import pymongo\n",
    "import itertools\n",
    "myclient = pymongo.MongoClient(\"mongodb://localhost:27017/\")\n",
    "mydb = myclient[\"flick\"]"
   ]
  },
  {
   "cell_type": "markdown",
   "metadata": {},
   "source": [
    "### Initialize"
   ]
  },
  {
   "cell_type": "code",
   "execution_count": 123,
   "metadata": {
    "scrolled": true
   },
   "outputs": [],
   "source": [
    "mycol = mydb[\"genres_data\"]\n",
    "mycol.drop()\n",
    "genres_df=pd.read_csv('genres.csv')\n",
    "genre_json=genres_df.to_json(orient='records')\n",
    "genre_json=eval(genre_json)\n",
    "genre_data=genre_json\n",
    "x = mycol.insert_many(genre_data)\n",
    "\n",
    "mycol = mydb[\"movies_data\"]\n",
    "mycol.drop()\n",
    "movies_df=pd.read_csv('movies.csv')\n",
    "movies_json=movies_df.to_json(orient='records')\n",
    "movies_json=eval(movies_json)\n",
    "movies_data=movies_json\n",
    "movies_data[0]\n",
    "x = mycol.insert_many(movies_data)"
   ]
  },
  {
   "cell_type": "markdown",
   "metadata": {},
   "source": [
    "### New review"
   ]
  },
  {
   "cell_type": "code",
   "execution_count": 125,
   "metadata": {
    "scrolled": true
   },
   "outputs": [
    {
     "name": "stderr",
     "output_type": "stream",
     "text": [
      "C:\\ProgramData\\Anaconda3\\lib\\site-packages\\pandas\\core\\frame.py:3697: SettingWithCopyWarning: \n",
      "A value is trying to be set on a copy of a slice from a DataFrame\n",
      "\n",
      "See the caveats in the documentation: http://pandas.pydata.org/pandas-docs/stable/indexing.html#indexing-view-versus-copy\n",
      "  errors=errors)\n"
     ]
    },
    {
     "data": {
      "text/plain": [
       "movieId\n",
       "27344     0.863636\n",
       "71999     0.818182\n",
       "49593     0.818182\n",
       "26093     0.795455\n",
       "141982    0.772727\n",
       "dtype: float64"
      ]
     },
     "execution_count": 125,
     "metadata": {},
     "output_type": "execute_result"
    }
   ],
   "source": [
    "#inserting new review\n",
    "uid=1\n",
    "movieId=42\n",
    "rating=4\n",
    "mycol = mydb[\"reviews\"]\n",
    "record={ \"uid\": uid, \"movieId\": movieId,\"rating\":rating }\n",
    "mycol.insert_one(record)\n",
    "#generating userInput table\n",
    "userInput=[]\n",
    "for x in mycol.find({\"uid\":uid},{ \"_id\": 0}):\n",
    "  userInput.append(x)\n",
    "userInput=pd.DataFrame(userInput)\n",
    "userInput=userInput.drop(['uid'], axis = 1) \n",
    "#fetching genres data from database\n",
    "mycol = mydb[\"genres_data\"]\n",
    "data=[]\n",
    "for x in mycol.find({},{\"_id\":0}):\n",
    "    data.append(x)\n",
    "genres_df=pd.DataFrame(data)\n",
    "#generating userProfile\n",
    "userGenre=genres_df[genres_df['movieId'].isin(userInput['movieId'].tolist())]\n",
    "userGenre.drop('movieId',1,inplace=True)\n",
    "userGenre.reset_index(drop=True)\n",
    "userProfile = userGenre.transpose().dot(userInput.rating.values)\n",
    "#getting new recommendations\n",
    "genreTable=genres_df.copy()\n",
    "genreTable.set_index('movieId',inplace=True)\n",
    "recommend_df=((genreTable*userProfile).sum(axis=1))/(userProfile.sum())\n",
    "recommend_df.sort_values(ascending=False,inplace=True)\n",
    "mycol = mydb[\"user_recommendation_data\"]\n",
    "recommendation_json=eval(recommend_df.to_json())\n",
    "recommendation_data={\"uid\":1,\"recommendation_data\":recommendation_json}\n",
    "mycol.delete_one({\"uid\":uid})\n",
    "x = mycol.insert_one(recommendation_data)\n",
    "recommend_df.head()"
   ]
  },
  {
   "cell_type": "markdown",
   "metadata": {},
   "source": [
    "###    Recommendation"
   ]
  },
  {
   "cell_type": "code",
   "execution_count": 160,
   "metadata": {},
   "outputs": [
    {
     "data": {
      "text/plain": [
       "[{'movieId': 26093,\n",
       "  'title': 'Wonderful World of the Brothers Grimm, The (1962)',\n",
       "  'genres': 'Adventure|Animation|Children|Comedy|Drama|Fantasy|Musical|Romance'},\n",
       " {'movieId': 27344,\n",
       "  'title': 'Revolutionary Girl Utena: Adolescence of Utena (a.k.a. Revolutionary Girl Utena the Movie) (Shoujo kakumei Utena: Adolescence mokushiroku) (1999)',\n",
       "  'genres': 'Action|Adventure|Animation|Comedy|Drama|Fantasy|Romance'},\n",
       " {'movieId': 49593,\n",
       "  'title': 'She (1965)',\n",
       "  'genres': 'Action|Adventure|Drama|Fantasy|Horror|Romance|Sci-Fi'},\n",
       " {'movieId': 71999,\n",
       "  'title': 'Aelita: The Queen of Mars (Aelita) (1924)',\n",
       "  'genres': 'Action|Adventure|Drama|Fantasy|Romance|Sci-Fi|Thriller'},\n",
       " {'movieId': 141982,\n",
       "  'title': 'Mrs Miracle (2009)',\n",
       "  'genres': 'Children|Comedy|Drama|Fantasy|Romance|Sci-Fi'}]"
      ]
     },
     "execution_count": 160,
     "metadata": {},
     "output_type": "execute_result"
    }
   ],
   "source": [
    "mycol = mydb[\"user_recommendation_data\"]\n",
    "x=mycol.find_one({\"uid\":1},{\"_id\":0})\n",
    "data=x['recommendation_data']\n",
    "# recommend_df=pd.Series(data)\n",
    "# recommend_df.head()\n",
    "data=dict(itertools.islice(data.items(),5))\n",
    "movies_id=list(data.keys())\n",
    "\n",
    "mycol=mydb['movies_data']\n",
    "movies_data=[]\n",
    "for i in mycol.find({},{\"_id\":0}):\n",
    "    if(str(i[\"movieId\"]) in movies_id):\n",
    "        movies_data.append(i)\n",
    "    #print(i[\"movieId\"])\n",
    "movies_data"
   ]
  },
  {
   "cell_type": "code",
   "execution_count": null,
   "metadata": {},
   "outputs": [],
   "source": []
  }
 ],
 "metadata": {
  "kernelspec": {
   "display_name": "Python 3",
   "language": "python",
   "name": "python3"
  },
  "language_info": {
   "codemirror_mode": {
    "name": "ipython",
    "version": 3
   },
   "file_extension": ".py",
   "mimetype": "text/x-python",
   "name": "python",
   "nbconvert_exporter": "python",
   "pygments_lexer": "ipython3",
   "version": "3.7.1"
  }
 },
 "nbformat": 4,
 "nbformat_minor": 2
}
